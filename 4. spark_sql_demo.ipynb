{
 "cells": [
  {
   "cell_type": "code",
   "execution_count": 30,
   "metadata": {},
   "outputs": [],
   "source": [
    "# importing pyspark session\n",
    "from pyspark.sql import SparkSession\n",
    "spark = SparkSession.builder\\\n",
    "                    .appName('Demo To SparkSQl')\\\n",
    "                    .getOrCreate()"
   ]
  },
  {
   "cell_type": "code",
   "execution_count": 3,
   "metadata": {},
   "outputs": [],
   "source": [
    "# importing row\n",
    "from pyspark.sql.types import Row\n",
    "from datetime import datetime"
   ]
  },
  {
   "cell_type": "code",
   "execution_count": 19,
   "metadata": {},
   "outputs": [
    {
     "data": {
      "text/plain": [
       "ParallelCollectionRDD[32] at parallelize at PythonRDD.scala:195"
      ]
     },
     "execution_count": 19,
     "metadata": {},
     "output_type": "execute_result"
    }
   ],
   "source": [
    "# creating RDD\n",
    "records = sc.parallelize([Row(\n",
    "                              id =1,\n",
    "                              name = 'Jill',\n",
    "                              active = True,\n",
    "                              clubs = ['chess', 'hockey'],\n",
    "                              subjects = {'maths':85, 'english':87},\n",
    "                              enrolled = datetime(2019, 8, 1, 14, 5)),\n",
    "                          Row(\n",
    "                              id =2,\n",
    "                              name = 'George',\n",
    "                              active = False,\n",
    "                              clubs = ['badminton', 'football'],\n",
    "                              subjects = {'maths':89, 'english':79},\n",
    "                              enrolled = datetime(2019, 4, 1, 22, 8)),\n",
    "                          Row(\n",
    "                              id =3,\n",
    "                              name = 'Alice',\n",
    "                              active = True,\n",
    "                              clubs = ['cricket', 'pool'],\n",
    "                              subjects = {'maths':95, 'english':77},\n",
    "                              enrolled = datetime(2019, 10, 1, 16, 5)), \n",
    "                         ])\n",
    "records"
   ]
  },
  {
   "cell_type": "code",
   "execution_count": 20,
   "metadata": {},
   "outputs": [
    {
     "name": "stdout",
     "output_type": "stream",
     "text": [
      "+------+--------------------+-------------------+---+------+--------------------+\n",
      "|active|               clubs|           enrolled| id|  name|            subjects|\n",
      "+------+--------------------+-------------------+---+------+--------------------+\n",
      "|  true|     [chess, hockey]|2019-08-01 14:05:00|  1|  Jill|[english -> 87, m...|\n",
      "| false|[badminton, footb...|2019-04-01 22:08:00|  2|George|[english -> 79, m...|\n",
      "|  true|     [cricket, pool]|2019-10-01 16:05:00|  3| Alice|[english -> 77, m...|\n",
      "+------+--------------------+-------------------+---+------+--------------------+\n",
      "\n"
     ]
    }
   ],
   "source": [
    "# converting it to DF\n",
    "records_df = records.toDF()\n",
    "records_df.show()"
   ]
  },
  {
   "cell_type": "code",
   "execution_count": 21,
   "metadata": {},
   "outputs": [
    {
     "name": "stdout",
     "output_type": "stream",
     "text": [
      "+------+--------------------+-------------------+---+------+--------------------+\n",
      "|active|               clubs|           enrolled| id|  name|            subjects|\n",
      "+------+--------------------+-------------------+---+------+--------------------+\n",
      "|  true|     [chess, hockey]|2019-08-01 14:05:00|  1|  Jill|[english -> 87, m...|\n",
      "| false|[badminton, footb...|2019-04-01 22:08:00|  2|George|[english -> 79, m...|\n",
      "|  true|     [cricket, pool]|2019-10-01 16:05:00|  3| Alice|[english -> 77, m...|\n",
      "+------+--------------------+-------------------+---+------+--------------------+\n",
      "\n"
     ]
    }
   ],
   "source": [
    "# registering/creating per-session template view for limeted time (upto session)\n",
    "records_df.createOrReplaceTempView('records')\n",
    "\n",
    "# sharing it to sparkcontext and quering from dataframe\n",
    "all_records_df = sqlContext.sql('SELECT * FROM records')\n",
    "\n",
    "# showing the records data\n",
    "all_records_df.show()\n",
    "# it return result as dataframe"
   ]
  },
  {
   "cell_type": "code",
   "execution_count": 22,
   "metadata": {},
   "outputs": [
    {
     "name": "stdout",
     "output_type": "stream",
     "text": [
      "+---+--------+---------------+\n",
      "| id|clubs[1]|subjects[maths]|\n",
      "+---+--------+---------------+\n",
      "|  1|  hockey|             85|\n",
      "|  2|football|             89|\n",
      "|  3|    pool|             95|\n",
      "+---+--------+---------------+\n",
      "\n"
     ]
    }
   ],
   "source": [
    "# complex sql queries\n",
    "sqlContext.sql('SELECT id, clubs[1], subjects[\"maths\"] FROM records').show()"
   ]
  },
  {
   "cell_type": "code",
   "execution_count": 25,
   "metadata": {},
   "outputs": [
    {
     "name": "stdout",
     "output_type": "stream",
     "text": [
      "+------+---------------+-------------------+---+-----+--------------------+\n",
      "|active|          clubs|           enrolled| id| name|            subjects|\n",
      "+------+---------------+-------------------+---+-----+--------------------+\n",
      "|  true|[chess, hockey]|2019-08-01 14:05:00|  1| Jill|[english -> 87, m...|\n",
      "|  true|[cricket, pool]|2019-10-01 16:05:00|  3|Alice|[english -> 77, m...|\n",
      "+------+---------------+-------------------+---+-----+--------------------+\n",
      "\n"
     ]
    }
   ],
   "source": [
    "# filtering data\n",
    "sqlContext.sql('SELECT * FROM records WHERE active=True').show()"
   ]
  },
  {
   "cell_type": "code",
   "execution_count": 27,
   "metadata": {},
   "outputs": [
    {
     "name": "stdout",
     "output_type": "stream",
     "text": [
      "+------+---------------+-------------------+---+----+--------------------+\n",
      "|active|          clubs|           enrolled| id|name|            subjects|\n",
      "+------+---------------+-------------------+---+----+--------------------+\n",
      "|  true|[chess, hockey]|2019-08-01 14:05:00|  1|Jill|[english -> 87, m...|\n",
      "+------+---------------+-------------------+---+----+--------------------+\n",
      "\n"
     ]
    }
   ],
   "source": [
    "# logical operators\n",
    "sqlContext.sql('SELECT * FROM records WHERE subjects[\"english\"] > 80').show()"
   ]
  },
  {
   "cell_type": "code",
   "execution_count": 28,
   "metadata": {},
   "outputs": [],
   "source": [
    "# creating global tempview available for all spark session\n",
    "records_df.createGlobalTempView('global_records')"
   ]
  },
  {
   "cell_type": "code",
   "execution_count": 31,
   "metadata": {},
   "outputs": [
    {
     "name": "stdout",
     "output_type": "stream",
     "text": [
      "+------+--------------------+-------------------+---+------+--------------------+\n",
      "|active|               clubs|           enrolled| id|  name|            subjects|\n",
      "+------+--------------------+-------------------+---+------+--------------------+\n",
      "|  true|     [chess, hockey]|2019-08-01 14:05:00|  1|  Jill|[english -> 87, m...|\n",
      "| false|[badminton, footb...|2019-04-01 22:08:00|  2|George|[english -> 79, m...|\n",
      "|  true|     [cricket, pool]|2019-10-01 16:05:00|  3| Alice|[english -> 77, m...|\n",
      "+------+--------------------+-------------------+---+------+--------------------+\n",
      "\n"
     ]
    }
   ],
   "source": [
    "# accesing table data by using keyword global_temp\n",
    "sqlContext.sql('SELECT * FROM global_temp.global_records').show()"
   ]
  },
  {
   "cell_type": "code",
   "execution_count": null,
   "metadata": {},
   "outputs": [],
   "source": []
  }
 ],
 "metadata": {
  "kernelspec": {
   "display_name": "Python 3",
   "language": "python",
   "name": "python3"
  },
  "language_info": {
   "codemirror_mode": {
    "name": "ipython",
    "version": 3
   },
   "file_extension": ".py",
   "mimetype": "text/x-python",
   "name": "python",
   "nbconvert_exporter": "python",
   "pygments_lexer": "ipython3",
   "version": "3.7.3"
  }
 },
 "nbformat": 4,
 "nbformat_minor": 2
}
