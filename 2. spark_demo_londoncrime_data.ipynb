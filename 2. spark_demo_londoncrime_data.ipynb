{
 "cells": [
  {
   "cell_type": "code",
   "execution_count": 1,
   "metadata": {},
   "outputs": [],
   "source": [
    "# importing SparkSession\n",
    "from pyspark.sql import SparkSession\n",
    "# creating spark session using spark session builder\n",
    "spark = SparkSession.builder\\\n",
    "                    .appName('Analyzing London Crime Data')\\\n",
    "                    .getOrCreate()"
   ]
  },
  {
   "cell_type": "code",
   "execution_count": 2,
   "metadata": {},
   "outputs": [],
   "source": [
    "# loading our london crime data\n",
    "data = spark.read\\\n",
    "            .format('csv')\\\n",
    "            .option('header', 'true')\\\n",
    "            .load('../datasets/london_crime.csv')"
   ]
  },
  {
   "cell_type": "code",
   "execution_count": 3,
   "metadata": {},
   "outputs": [
    {
     "name": "stdout",
     "output_type": "stream",
     "text": [
      "root\n",
      " |-- lsoa_code: string (nullable = true)\n",
      " |-- borough: string (nullable = true)\n",
      " |-- major_category: string (nullable = true)\n",
      " |-- minor_category: string (nullable = true)\n",
      " |-- value: string (nullable = true)\n",
      " |-- year: string (nullable = true)\n",
      " |-- month: string (nullable = true)\n",
      "\n"
     ]
    }
   ],
   "source": [
    "# printing schema of dataset\n",
    "data.printSchema()"
   ]
  },
  {
   "cell_type": "code",
   "execution_count": 4,
   "metadata": {},
   "outputs": [
    {
     "data": {
      "text/plain": [
       "13490604"
      ]
     },
     "execution_count": 4,
     "metadata": {},
     "output_type": "execute_result"
    }
   ],
   "source": [
    "# counting data\n",
    "data.count()"
   ]
  },
  {
   "cell_type": "code",
   "execution_count": 5,
   "metadata": {},
   "outputs": [
    {
     "name": "stdout",
     "output_type": "stream",
     "text": [
      "+---------+----------+--------------------+--------------------+-----+----+-----+\n",
      "|lsoa_code|   borough|      major_category|      minor_category|value|year|month|\n",
      "+---------+----------+--------------------+--------------------+-----+----+-----+\n",
      "|E01001116|   Croydon|            Burglary|Burglary in Other...|    0|2016|   11|\n",
      "|E01001646| Greenwich|Violence Against ...|      Other violence|    0|2016|   11|\n",
      "|E01000677|   Bromley|Violence Against ...|      Other violence|    0|2015|    5|\n",
      "|E01003774| Redbridge|            Burglary|Burglary in Other...|    0|2016|    3|\n",
      "|E01004563|Wandsworth|             Robbery|   Personal Property|    0|2008|    6|\n",
      "+---------+----------+--------------------+--------------------+-----+----+-----+\n",
      "\n"
     ]
    }
   ],
   "source": [
    "# displaying limited data\n",
    "data.limit(5).show()"
   ]
  },
  {
   "cell_type": "code",
   "execution_count": 6,
   "metadata": {},
   "outputs": [
    {
     "data": {
      "text/plain": [
       "DataFrame[lsoa_code: string, borough: string, major_category: string, minor_category: string, value: string, year: string, month: string]"
      ]
     },
     "execution_count": 6,
     "metadata": {},
     "output_type": "execute_result"
    }
   ],
   "source": [
    "# cleaning and preprocessing the data\n",
    "data.dropna()\n",
    "# deleting data having no value"
   ]
  },
  {
   "cell_type": "code",
   "execution_count": 7,
   "metadata": {},
   "outputs": [
    {
     "name": "stdout",
     "output_type": "stream",
     "text": [
      "+----------+--------------------+--------------------+-----+----+-----+\n",
      "|   borough|      major_category|      minor_category|value|year|month|\n",
      "+----------+--------------------+--------------------+-----+----+-----+\n",
      "|   Croydon|            Burglary|Burglary in Other...|    0|2016|   11|\n",
      "| Greenwich|Violence Against ...|      Other violence|    0|2016|   11|\n",
      "|   Bromley|Violence Against ...|      Other violence|    0|2015|    5|\n",
      "| Redbridge|            Burglary|Burglary in Other...|    0|2016|    3|\n",
      "|Wandsworth|             Robbery|   Personal Property|    0|2008|    6|\n",
      "+----------+--------------------+--------------------+-----+----+-----+\n",
      "only showing top 5 rows\n",
      "\n"
     ]
    }
   ],
   "source": [
    "# munging data by deleting column which is not useful\n",
    "data = data.drop('lsoa_code')\n",
    "data.show(5)"
   ]
  },
  {
   "cell_type": "code",
   "execution_count": 13,
   "metadata": {},
   "outputs": [
    {
     "name": "stdout",
     "output_type": "stream",
     "text": [
      "+--------------------+\n",
      "|             borough|\n",
      "+--------------------+\n",
      "|             Croydon|\n",
      "|          Wandsworth|\n",
      "|              Bexley|\n",
      "|             Lambeth|\n",
      "|Barking and Dagenham|\n",
      "|              Camden|\n",
      "|           Greenwich|\n",
      "|              Newham|\n",
      "|       Tower Hamlets|\n",
      "|            Hounslow|\n",
      "|              Barnet|\n",
      "|              Harrow|\n",
      "|Kensington and Ch...|\n",
      "|           Islington|\n",
      "|               Brent|\n",
      "|            Haringey|\n",
      "|             Bromley|\n",
      "|              Merton|\n",
      "|         Westminster|\n",
      "|             Hackney|\n",
      "+--------------------+\n",
      "only showing top 20 rows\n",
      "\n"
     ]
    },
    {
     "data": {
      "text/plain": [
       "33"
      ]
     },
     "execution_count": 13,
     "metadata": {},
     "output_type": "execute_result"
    }
   ],
   "source": [
    "# selecting unique values in particular column\n",
    "total_boroughs = data.select('borough').distinct()\n",
    "# displaying top 20 rows from dataset\n",
    "total_boroughs.show()\n",
    "# count of distinct types of borough\n",
    "total_boroughs.count()"
   ]
  },
  {
   "cell_type": "code",
   "execution_count": 11,
   "metadata": {},
   "outputs": [
    {
     "name": "stdout",
     "output_type": "stream",
     "text": [
      "+-------+--------------------+--------------------+-----+----+-----+\n",
      "|borough|      major_category|      minor_category|value|year|month|\n",
      "+-------+--------------------+--------------------+-----+----+-----+\n",
      "|Hackney|     Criminal Damage|Criminal Damage T...|    0|2011|    6|\n",
      "|Hackney|Violence Against ...|          Harassment|    1|2013|    2|\n",
      "|Hackney|     Criminal Damage|Other Criminal Da...|    0|2011|    7|\n",
      "|Hackney|Violence Against ...|        Wounding/GBH|    0|2013|   12|\n",
      "|Hackney|  Theft and Handling|  Other Theft Person|    0|2016|    8|\n",
      "+-------+--------------------+--------------------+-----+----+-----+\n",
      "only showing top 5 rows\n",
      "\n"
     ]
    }
   ],
   "source": [
    "# filtering data based on values\n",
    "hackney_data = data.filter(data['borough'] == 'Hackney')\n",
    "hackney_data.show(5)"
   ]
  },
  {
   "cell_type": "code",
   "execution_count": 16,
   "metadata": {},
   "outputs": [
    {
     "name": "stdout",
     "output_type": "stream",
     "text": [
      "+--------------------+--------------------+--------------------+-----+----+-----+\n",
      "|             borough|      major_category|      minor_category|value|year|month|\n",
      "+--------------------+--------------------+--------------------+-----+----+-----+\n",
      "|            Haringey|Violence Against ...|        Wounding/GBH|    0|2015|   12|\n",
      "|            Havering|    Fraud or Forgery|  Counted per Victim|    0|2015|   11|\n",
      "|               Brent|  Theft and Handling|Motor Vehicle Int...|    0|2015|    9|\n",
      "|            Hounslow|Violence Against ...|        Wounding/GBH|    2|2015|    8|\n",
      "|         Westminster|               Drugs|    Drug Trafficking|    0|2015|    1|\n",
      "|           Redbridge|            Burglary|Burglary in Other...|    0|2015|    2|\n",
      "|               Brent|  Theft and Handling|  Other Theft Person|    1|2016|   12|\n",
      "|             Enfield|     Criminal Damage|Other Criminal Da...|    0|2015|    9|\n",
      "|          Hillingdon|            Burglary|Burglary in Other...|    0|2016|   12|\n",
      "|          Wandsworth|            Burglary|Burglary in Other...|    0|2015|    3|\n",
      "|          Hillingdon|Violence Against ...|        Wounding/GBH|    0|2016|    1|\n",
      "|          Hillingdon|Violence Against ...|        Wounding/GBH|    1|2015|    6|\n",
      "|            Hounslow|Violence Against ...|      Other violence|    0|2015|   11|\n",
      "|Barking and Dagenham|     Criminal Damage|Criminal Damage T...|    4|2015|    6|\n",
      "|             Enfield|Violence Against ...|      Other violence|    0|2016|    9|\n",
      "|             Hackney|Violence Against ...|          Harassment|    0|2015|    3|\n",
      "|          Wandsworth|Other Notifiable ...|      Going Equipped|    0|2016|    2|\n",
      "|             Croydon|Other Notifiable ...|    Other Notifiable|    0|2016|    2|\n",
      "|          Wandsworth|  Theft and Handling|Theft/Taking Of M...|    0|2015|    9|\n",
      "|              Merton|Violence Against ...|          Harassment|    1|2015|    6|\n",
      "+--------------------+--------------------+--------------------+-----+----+-----+\n",
      "only showing top 20 rows\n",
      "\n"
     ]
    }
   ],
   "source": [
    "# filtering data using isin()\n",
    "data_2015_to_2016 = data.filter(data['year'].isin(['2015', '2016']))\n",
    "# displaying in some fraction of data\n",
    "data_2015_to_2016.sample(fraction=0.1).show()"
   ]
  },
  {
   "cell_type": "code",
   "execution_count": 17,
   "metadata": {},
   "outputs": [
    {
     "name": "stdout",
     "output_type": "stream",
     "text": [
      "+--------------------+--------------------+--------------------+-----+----+-----+\n",
      "|             borough|      major_category|      minor_category|value|year|month|\n",
      "+--------------------+--------------------+--------------------+-----+----+-----+\n",
      "|           Redbridge|            Burglary|Burglary in Other...|    0|2016|    3|\n",
      "|          Hillingdon|  Theft and Handling|Theft/Taking Of M...|    0|2016|    2|\n",
      "|            Lewisham|Violence Against ...|      Common Assault|    0|2016|    2|\n",
      "|      Waltham Forest|            Burglary|Burglary in Other...|    0|2015|    6|\n",
      "|          Hillingdon|Violence Against ...|      Other violence|    0|2016|   11|\n",
      "|       Tower Hamlets|            Burglary|Burglary in a Dwe...|    0|2016|    3|\n",
      "|       Tower Hamlets|  Theft and Handling|Handling Stolen G...|    0|2015|   10|\n",
      "|         Westminster|               Drugs|    Drug Trafficking|    0|2015|    1|\n",
      "|             Croydon|  Theft and Handling|  Other Theft Person|    0|2016|    2|\n",
      "|             Croydon|Other Notifiable ...|    Other Notifiable|    0|2016|    2|\n",
      "|              Merton|Violence Against ...|          Harassment|    1|2016|    6|\n",
      "|           Redbridge|  Theft and Handling|Motor Vehicle Int...|    0|2015|    6|\n",
      "|         Westminster|               Drugs|    Drug Trafficking|    0|2015|    9|\n",
      "|           Southwark|Violence Against ...|        Wounding/GBH|    1|2015|    1|\n",
      "|              Bexley|               Drugs|         Other Drugs|    0|2016|    1|\n",
      "|       Tower Hamlets|  Theft and Handling|         Other Theft|    2|2016|    1|\n",
      "|Barking and Dagenham|Violence Against ...|      Common Assault|    1|2016|    1|\n",
      "|          Hillingdon|Violence Against ...| Assault with Injury|    0|2016|   11|\n",
      "|           Redbridge|Violence Against ...|          Harassment|    0|2015|    6|\n",
      "|             Hackney|            Burglary|Burglary in Other...|    0|2016|    9|\n",
      "+--------------------+--------------------+--------------------+-----+----+-----+\n",
      "only showing top 20 rows\n",
      "\n"
     ]
    }
   ],
   "source": [
    "# using conditional operators for filter\n",
    "data_2014_onwards = data.filter(data['year'] > 2014)\n",
    "# showing 0.1 fraction of data with year greater than 2014\n",
    "data_2014_onwards.sample(fraction=0.1).show()"
   ]
  },
  {
   "cell_type": "code",
   "execution_count": 19,
   "metadata": {},
   "outputs": [
    {
     "name": "stdout",
     "output_type": "stream",
     "text": [
      "+--------------------+------+\n",
      "|             borough| count|\n",
      "+--------------------+------+\n",
      "|             Croydon|602100|\n",
      "|          Wandsworth|498636|\n",
      "|              Bexley|385668|\n",
      "|             Lambeth|519048|\n",
      "|Barking and Dagenham|311040|\n",
      "+--------------------+------+\n",
      "only showing top 5 rows\n",
      "\n"
     ]
    }
   ],
   "source": [
    "# groupby for similar grouping data\n",
    "borough_crime_count = data.groupBy('borough').count()\n",
    "borough_crime_count.show(5)"
   ]
  },
  {
   "cell_type": "code",
   "execution_count": 21,
   "metadata": {},
   "outputs": [
    {
     "name": "stdout",
     "output_type": "stream",
     "text": [
      "+--------------------+----------+\n",
      "|             borough|sum(value)|\n",
      "+--------------------+----------+\n",
      "|             Croydon|  260294.0|\n",
      "|          Wandsworth|  204741.0|\n",
      "|              Bexley|  114136.0|\n",
      "|             Lambeth|  292178.0|\n",
      "|Barking and Dagenham|  149447.0|\n",
      "+--------------------+----------+\n",
      "only showing top 5 rows\n",
      "\n"
     ]
    }
   ],
   "source": [
    "# aggregating/sum of all the value groupby borough\n",
    "borough_conviction_sum = data.groupBy('borough').agg({'value':'sum'})\n",
    "borough_conviction_sum.show(5)"
   ]
  },
  {
   "cell_type": "code",
   "execution_count": 22,
   "metadata": {},
   "outputs": [
    {
     "name": "stdout",
     "output_type": "stream",
     "text": [
      "+--------------------+-----------+\n",
      "|             borough|convictions|\n",
      "+--------------------+-----------+\n",
      "|             Croydon|   260294.0|\n",
      "|          Wandsworth|   204741.0|\n",
      "|              Bexley|   114136.0|\n",
      "|             Lambeth|   292178.0|\n",
      "|Barking and Dagenham|   149447.0|\n",
      "+--------------------+-----------+\n",
      "only showing top 5 rows\n",
      "\n"
     ]
    }
   ],
   "source": [
    "# renaming default column name\n",
    "borough_conviction_sum = data.groupBy('borough').agg({'value':'sum'})\\\n",
    "                             .withColumnRenamed('sum(value)', 'convictions')\n",
    "borough_conviction_sum.show(5)"
   ]
  },
  {
   "cell_type": "code",
   "execution_count": 26,
   "metadata": {},
   "outputs": [
    {
     "data": {
      "text/plain": [
       "DataFrame[month: string, convictions: double]"
      ]
     },
     "execution_count": 26,
     "metadata": {},
     "output_type": "execute_result"
    }
   ],
   "source": [
    "# performing multiple operations on dataset\n",
    "conviction_monthly = data.filter(data['year'] == 2014)\\\n",
    "                         .groupBy('month')\\\n",
    "                         .agg({'value':'sum'})\\\n",
    "                         .withColumnRenamed('sum(value)', 'convictions')\n",
    "conviction_monthly"
   ]
  },
  {
   "cell_type": "code",
   "execution_count": 27,
   "metadata": {},
   "outputs": [
    {
     "name": "stdout",
     "output_type": "stream",
     "text": [
      "+-----+-----------+\n",
      "|month|convictions|\n",
      "+-----+-----------+\n",
      "|    7|    58564.0|\n",
      "|   11|    59704.0|\n",
      "|    3|    57669.0|\n",
      "|    8|    55641.0|\n",
      "|    5|    56327.0|\n",
      "+-----+-----------+\n",
      "only showing top 5 rows\n",
      "\n"
     ]
    }
   ],
   "source": [
    "# displaying data\n",
    "conviction_monthly.show(5)"
   ]
  },
  {
   "cell_type": "code",
   "execution_count": 30,
   "metadata": {},
   "outputs": [
    {
     "data": {
      "text/plain": [
       "['month', 'convictions', 'percent']"
      ]
     },
     "execution_count": 30,
     "metadata": {},
     "output_type": "execute_result"
    }
   ],
   "source": [
    "# importing sql functions\n",
    "import pyspark.sql.functions as func\n",
    "\n",
    "# calculating percentage of convictions per months\n",
    "total_convictions_monthly = conviction_monthly.agg({'convictions':'sum'})\\\n",
    "                                              .collect()[0][0]\n",
    "total_convictions_monthly = conviction_monthly.withColumn(\n",
    "                            'percent',\n",
    "                            func.round(conviction_monthly.convictions/total_convictions_monthly * 100, 2)\n",
    ")\n",
    "total_convictions_monthly.columns"
   ]
  },
  {
   "cell_type": "code",
   "execution_count": 31,
   "metadata": {},
   "outputs": [
    {
     "name": "stdout",
     "output_type": "stream",
     "text": [
      "+-----+-----------+-------+\n",
      "|month|convictions|percent|\n",
      "+-----+-----------+-------+\n",
      "|   10|    60537.0|    8.9|\n",
      "|   11|    59704.0|   8.78|\n",
      "|    7|    58564.0|   8.61|\n",
      "|    3|    57669.0|   8.48|\n",
      "|   12|    57565.0|   8.46|\n",
      "|    6|    57039.0|   8.39|\n",
      "|    9|    56933.0|   8.37|\n",
      "|    5|    56327.0|   8.28|\n",
      "|    8|    55641.0|   8.18|\n",
      "|    1|    55515.0|   8.16|\n",
      "|    4|    53467.0|   7.86|\n",
      "|    2|    51222.0|   7.53|\n",
      "+-----+-----------+-------+\n",
      "\n"
     ]
    }
   ],
   "source": [
    "# displaying percentage and orderby descending order\n",
    "total_convictions_monthly.orderBy(total_convictions_monthly.percent.desc()).show()"
   ]
  },
  {
   "cell_type": "code",
   "execution_count": null,
   "metadata": {},
   "outputs": [],
   "source": []
  }
 ],
 "metadata": {
  "kernelspec": {
   "display_name": "Python 3",
   "language": "python",
   "name": "python3"
  },
  "language_info": {
   "codemirror_mode": {
    "name": "ipython",
    "version": 3
   },
   "file_extension": ".py",
   "mimetype": "text/x-python",
   "name": "python",
   "nbconvert_exporter": "python",
   "pygments_lexer": "ipython3",
   "version": "3.6.8"
  }
 },
 "nbformat": 4,
 "nbformat_minor": 2
}
