{
 "cells": [
  {
   "cell_type": "code",
   "execution_count": 36,
   "metadata": {},
   "outputs": [],
   "source": [
    "# importing pyspark session\n",
    "from pyspark.sql import SparkSession\n",
    "spark = SparkSession.builder\\\n",
    "                    .appName('Analyzing Soccer Players')\\\n",
    "                    .getOrCreate()"
   ]
  },
  {
   "cell_type": "code",
   "execution_count": 37,
   "metadata": {},
   "outputs": [],
   "source": [
    "# loading data of soccer players\n",
    "players_data = spark.read\\\n",
    "            .format('csv')\\\n",
    "            .option('header', 'true')\\\n",
    "            .load('../datasets/player.csv')"
   ]
  },
  {
   "cell_type": "code",
   "execution_count": 38,
   "metadata": {},
   "outputs": [
    {
     "name": "stdout",
     "output_type": "stream",
     "text": [
      "root\n",
      " |-- id: string (nullable = true)\n",
      " |-- player_api_id: string (nullable = true)\n",
      " |-- player_name: string (nullable = true)\n",
      " |-- player_fifa_api_id: string (nullable = true)\n",
      " |-- birthday: string (nullable = true)\n",
      " |-- height: string (nullable = true)\n",
      " |-- weight: string (nullable = true)\n",
      "\n"
     ]
    }
   ],
   "source": [
    "# getting schema of the data\n",
    "players_data.printSchema()"
   ]
  },
  {
   "cell_type": "code",
   "execution_count": 39,
   "metadata": {},
   "outputs": [
    {
     "name": "stdout",
     "output_type": "stream",
     "text": [
      "+---+-------------+------------------+------------------+-------------------+------+------+\n",
      "| id|player_api_id|       player_name|player_fifa_api_id|           birthday|height|weight|\n",
      "+---+-------------+------------------+------------------+-------------------+------+------+\n",
      "|  1|       505942|Aaron Appindangoye|            218353|1992-02-29 00:00:00|182.88|   187|\n",
      "|  2|       155782|   Aaron Cresswell|            189615|1989-12-15 00:00:00|170.18|   146|\n",
      "|  3|       162549|       Aaron Doran|            186170|1991-05-13 00:00:00|170.18|   163|\n",
      "|  4|        30572|     Aaron Galindo|            140161|1982-05-08 00:00:00|182.88|   198|\n",
      "|  5|        23780|      Aaron Hughes|             17725|1979-11-08 00:00:00|182.88|   154|\n",
      "+---+-------------+------------------+------------------+-------------------+------+------+\n",
      "only showing top 5 rows\n",
      "\n"
     ]
    }
   ],
   "source": [
    "# showing data\n",
    "players_data.show(5)"
   ]
  },
  {
   "cell_type": "code",
   "execution_count": 40,
   "metadata": {},
   "outputs": [],
   "source": [
    "# reading players_attributes data\n",
    "players_attributes = spark.read\\\n",
    "                          .format('csv')\\\n",
    "                          .option('header', 'true')\\\n",
    "                          .load('../datasets/player_attributes.csv')"
   ]
  },
  {
   "cell_type": "code",
   "execution_count": 41,
   "metadata": {
    "scrolled": true
   },
   "outputs": [
    {
     "name": "stdout",
     "output_type": "stream",
     "text": [
      "root\n",
      " |-- id: string (nullable = true)\n",
      " |-- player_fifa_api_id: string (nullable = true)\n",
      " |-- player_api_id: string (nullable = true)\n",
      " |-- date: string (nullable = true)\n",
      " |-- overall_rating: string (nullable = true)\n",
      " |-- potential: string (nullable = true)\n",
      " |-- preferred_foot: string (nullable = true)\n",
      " |-- attacking_work_rate: string (nullable = true)\n",
      " |-- defensive_work_rate: string (nullable = true)\n",
      " |-- crossing: string (nullable = true)\n",
      " |-- finishing: string (nullable = true)\n",
      " |-- heading_accuracy: string (nullable = true)\n",
      " |-- short_passing: string (nullable = true)\n",
      " |-- volleys: string (nullable = true)\n",
      " |-- dribbling: string (nullable = true)\n",
      " |-- curve: string (nullable = true)\n",
      " |-- free_kick_accuracy: string (nullable = true)\n",
      " |-- long_passing: string (nullable = true)\n",
      " |-- ball_control: string (nullable = true)\n",
      " |-- acceleration: string (nullable = true)\n",
      " |-- sprint_speed: string (nullable = true)\n",
      " |-- agility: string (nullable = true)\n",
      " |-- reactions: string (nullable = true)\n",
      " |-- balance: string (nullable = true)\n",
      " |-- shot_power: string (nullable = true)\n",
      " |-- jumping: string (nullable = true)\n",
      " |-- stamina: string (nullable = true)\n",
      " |-- strength: string (nullable = true)\n",
      " |-- long_shots: string (nullable = true)\n",
      " |-- aggression: string (nullable = true)\n",
      " |-- interceptions: string (nullable = true)\n",
      " |-- positioning: string (nullable = true)\n",
      " |-- vision: string (nullable = true)\n",
      " |-- penalties: string (nullable = true)\n",
      " |-- marking: string (nullable = true)\n",
      " |-- standing_tackle: string (nullable = true)\n",
      " |-- sliding_tackle: string (nullable = true)\n",
      " |-- gk_diving: string (nullable = true)\n",
      " |-- gk_handling: string (nullable = true)\n",
      " |-- gk_kicking: string (nullable = true)\n",
      " |-- gk_positioning: string (nullable = true)\n",
      " |-- gk_reflexes: string (nullable = true)\n",
      "\n"
     ]
    }
   ],
   "source": [
    "# printing schema of players attributes\n",
    "players_attributes.printSchema()\n",
    "# displays various attributes of players"
   ]
  },
  {
   "cell_type": "code",
   "execution_count": 42,
   "metadata": {},
   "outputs": [
    {
     "data": {
      "text/plain": [
       "(11060, 183978)"
      ]
     },
     "execution_count": 42,
     "metadata": {},
     "output_type": "execute_result"
    }
   ],
   "source": [
    "# getting count of the data\n",
    "players_data.count(), players_attributes.count()"
   ]
  },
  {
   "cell_type": "code",
   "execution_count": 43,
   "metadata": {},
   "outputs": [
    {
     "data": {
      "text/plain": [
       "11060"
      ]
     },
     "execution_count": 43,
     "metadata": {},
     "output_type": "execute_result"
    }
   ],
   "source": [
    "# selecting dictinct players with id\n",
    "players_attributes.select('player_api_id').distinct().count()\n",
    "# which is equal to players data count"
   ]
  },
  {
   "cell_type": "code",
   "execution_count": 44,
   "metadata": {},
   "outputs": [
    {
     "data": {
      "text/plain": [
       "['player_api_id', 'player_name', 'birthday', 'height', 'weight']"
      ]
     },
     "execution_count": 44,
     "metadata": {},
     "output_type": "execute_result"
    }
   ],
   "source": [
    "# removing unusable columns for faster processing from players data\n",
    "players_data = players_data.drop('id', 'player_fifa_api_id')\n",
    "players_data.columns"
   ]
  },
  {
   "cell_type": "code",
   "execution_count": 45,
   "metadata": {},
   "outputs": [
    {
     "data": {
      "text/plain": [
       "['player_api_id',\n",
       " 'date',\n",
       " 'overall_rating',\n",
       " 'finishing',\n",
       " 'heading_accuracy',\n",
       " 'volleys',\n",
       " 'dribbling',\n",
       " 'curve',\n",
       " 'free_kick_accuracy',\n",
       " 'long_passing',\n",
       " 'ball_control',\n",
       " 'acceleration',\n",
       " 'agility',\n",
       " 'reactions',\n",
       " 'shot_power',\n",
       " 'stamina',\n",
       " 'strength',\n",
       " 'long_shots',\n",
       " 'aggression',\n",
       " 'interceptions',\n",
       " 'positioning',\n",
       " 'vision',\n",
       " 'penalties',\n",
       " 'marking',\n",
       " 'standing_tackle',\n",
       " 'sliding_tackle',\n",
       " 'gk_diving',\n",
       " 'gk_handling',\n",
       " 'gk_kicking',\n",
       " 'gk_positioning',\n",
       " 'gk_reflexes']"
      ]
     },
     "execution_count": 45,
     "metadata": {},
     "output_type": "execute_result"
    }
   ],
   "source": [
    "# removing unusable columns for faster processing from players attributes data\n",
    "players_attributes = players_attributes.drop(\n",
    "                     'id',\n",
    "                     'player_fifa_api_id',\n",
    "                     'preferred_foot',\n",
    "                     'attacking_work_rate',\n",
    "                     'defensive_work_rate',\n",
    "                     'crossing',\n",
    "                     'jumping',\n",
    "                     'sprint_speed',\n",
    "                     'balance',\n",
    "                     'aggregation',\n",
    "                     'short_passing',\n",
    "                     'potential'\n",
    "                    )\n",
    "players_attributes.columns"
   ]
  },
  {
   "cell_type": "code",
   "execution_count": 46,
   "metadata": {},
   "outputs": [],
   "source": [
    "# cleaning data\n",
    "players_data = players_data.dropna()\n",
    "players_attributes = players_attributes.dropna()"
   ]
  },
  {
   "cell_type": "code",
   "execution_count": 47,
   "metadata": {},
   "outputs": [
    {
     "data": {
      "text/plain": [
       "(11060, 181265)"
      ]
     },
     "execution_count": 47,
     "metadata": {},
     "output_type": "execute_result"
    }
   ],
   "source": [
    "# getting count\n",
    "players_data.count(), players_attributes.count()\n",
    "# decrease in players attribute data count from 183978 to 181265"
   ]
  },
  {
   "cell_type": "code",
   "execution_count": 48,
   "metadata": {},
   "outputs": [
    {
     "data": {
      "text/plain": [
       "['player_api_id',\n",
       " 'overall_rating',\n",
       " 'finishing',\n",
       " 'heading_accuracy',\n",
       " 'volleys',\n",
       " 'dribbling',\n",
       " 'curve',\n",
       " 'free_kick_accuracy',\n",
       " 'long_passing',\n",
       " 'ball_control',\n",
       " 'acceleration',\n",
       " 'agility',\n",
       " 'reactions',\n",
       " 'shot_power',\n",
       " 'stamina',\n",
       " 'strength',\n",
       " 'long_shots',\n",
       " 'aggression',\n",
       " 'interceptions',\n",
       " 'positioning',\n",
       " 'vision',\n",
       " 'penalties',\n",
       " 'marking',\n",
       " 'standing_tackle',\n",
       " 'sliding_tackle',\n",
       " 'gk_diving',\n",
       " 'gk_handling',\n",
       " 'gk_kicking',\n",
       " 'gk_positioning',\n",
       " 'gk_reflexes',\n",
       " 'years']"
      ]
     },
     "execution_count": 48,
     "metadata": {},
     "output_type": "execute_result"
    }
   ],
   "source": [
    "# creating user defined function\n",
    "from pyspark.sql.functions import udf\n",
    "\n",
    "year_extract_udf = udf(lambda date: date.split('-')[0])\n",
    "players_attributes = players_attributes.withColumn(\n",
    "                     'years',\n",
    "                     year_extract_udf(players_attributes.date)\n",
    ")\n",
    "# removing date cloumn as year has been extracted\n",
    "players_attributes = players_attributes.drop('date')\n",
    "players_attributes.columns\n",
    "# a new column has added as years"
   ]
  },
  {
   "cell_type": "code",
   "execution_count": 76,
   "metadata": {},
   "outputs": [
    {
     "data": {
      "text/plain": [
       "14098"
      ]
     },
     "execution_count": 76,
     "metadata": {},
     "output_type": "execute_result"
    }
   ],
   "source": [
    "# filitering only player attribute data for the year 2016\n",
    "pa_data_2016 = players_attributes.filter(players_attributes['years'] == 2016)\n",
    "pa_data_2016.count()"
   ]
  },
  {
   "cell_type": "code",
   "execution_count": 77,
   "metadata": {},
   "outputs": [
    {
     "data": {
      "text/plain": [
       "5586"
      ]
     },
     "execution_count": 77,
     "metadata": {},
     "output_type": "execute_result"
    }
   ],
   "source": [
    "# getting distinct players count\n",
    "pa_data_2016.select(pa_data_2016.player_api_id)\\\n",
    "                          .distinct()\\\n",
    "                          .count()"
   ]
  },
  {
   "cell_type": "code",
   "execution_count": 78,
   "metadata": {},
   "outputs": [
    {
     "data": {
      "text/plain": [
       "5586"
      ]
     },
     "execution_count": 78,
     "metadata": {},
     "output_type": "execute_result"
    }
   ],
   "source": [
    "# getting best stricker\n",
    "pa_striker_2016 = pa_data_2016.groupBy('player_api_id')\\\n",
    "                              .agg({\n",
    "                                'finishing':'avg',\n",
    "                                'shot_power':'avg',\n",
    "                                'acceleration':'avg'\n",
    "                            })\n",
    "pa_striker_2016.count()"
   ]
  },
  {
   "cell_type": "code",
   "execution_count": 79,
   "metadata": {},
   "outputs": [
    {
     "name": "stdout",
     "output_type": "stream",
     "text": [
      "+-------------+-----------------+-----------------+---------------+\n",
      "|player_api_id|   avg(finishing)|avg(acceleration)|avg(shot_power)|\n",
      "+-------------+-----------------+-----------------+---------------+\n",
      "|       309726|75.44444444444444|74.11111111111111|           76.0|\n",
      "|        26112|             53.0|             51.0|           76.0|\n",
      "|        38433|            68.25|             74.0|           74.0|\n",
      "|       295060|             25.0|             62.0|           40.0|\n",
      "|       161396|             29.0|             72.0|           69.0|\n",
      "+-------------+-----------------+-----------------+---------------+\n",
      "only showing top 5 rows\n",
      "\n"
     ]
    }
   ],
   "source": [
    "# showing data\n",
    "pa_striker_2016.show(5)"
   ]
  },
  {
   "cell_type": "code",
   "execution_count": 80,
   "metadata": {},
   "outputs": [
    {
     "name": "stdout",
     "output_type": "stream",
     "text": [
      "+-------------+-----------------+-----------------+----------+\n",
      "|player_api_id|        finishing|     acceleration|shot_power|\n",
      "+-------------+-----------------+-----------------+----------+\n",
      "|       309726|75.44444444444444|74.11111111111111|      76.0|\n",
      "|        26112|             53.0|             51.0|      76.0|\n",
      "|        38433|            68.25|             74.0|      74.0|\n",
      "|       295060|             25.0|             62.0|      40.0|\n",
      "|       161396|             29.0|             72.0|      69.0|\n",
      "+-------------+-----------------+-----------------+----------+\n",
      "only showing top 5 rows\n",
      "\n"
     ]
    }
   ],
   "source": [
    "# renaming columns name\n",
    "pa_striker_2016 = pa_striker_2016.withColumnRenamed('avg(finishing)', 'finishing')\\\n",
    "                                 .withColumnRenamed('avg(acceleration)', 'acceleration')\\\n",
    "                                 .withColumnRenamed('avg(shot_power)', 'shot_power')\n",
    "pa_striker_2016.show(5)"
   ]
  },
  {
   "cell_type": "code",
   "execution_count": 81,
   "metadata": {},
   "outputs": [],
   "source": [
    "# assigning weights for each attributes\n",
    "weight_finishing = 1\n",
    "weight_acceleration = 1\n",
    "weight_shot_power = 2\n",
    "total_weight = weight_finishing + weight_acceleration + weight_shot_power"
   ]
  },
  {
   "cell_type": "code",
   "execution_count": 82,
   "metadata": {},
   "outputs": [],
   "source": [
    "# finding strikers player grade\n",
    "strickers = pa_striker_2016.withColumn('striker_grade',\n",
    "                                       (pa_striker_2016.finishing * weight_finishing + \\\n",
    "                                        pa_striker_2016.acceleration * weight_acceleration + \\\n",
    "                                        pa_striker_2016.shot_power * weight_shot_power) / total_weight)"
   ]
  },
  {
   "cell_type": "code",
   "execution_count": 83,
   "metadata": {},
   "outputs": [
    {
     "data": {
      "text/plain": [
       "['player_api_id', 'striker_grade']"
      ]
     },
     "execution_count": 83,
     "metadata": {},
     "output_type": "execute_result"
    }
   ],
   "source": [
    "# dropping unused/extra columns for faster processing\n",
    "strickers = strickers.drop('finishing', 'acceleration', 'shot_power')\n",
    "strickers.columns"
   ]
  },
  {
   "cell_type": "code",
   "execution_count": 84,
   "metadata": {},
   "outputs": [
    {
     "name": "stdout",
     "output_type": "stream",
     "text": [
      "+-------------+-----------------+\n",
      "|player_api_id|    striker_grade|\n",
      "+-------------+-----------------+\n",
      "|       309726|75.38888888888889|\n",
      "|        26112|             64.0|\n",
      "|        38433|          72.5625|\n",
      "|       295060|            41.75|\n",
      "|       161396|            59.75|\n",
      "+-------------+-----------------+\n",
      "only showing top 5 rows\n",
      "\n"
     ]
    }
   ],
   "source": [
    "# showing data with player_api_id and striker_grade\n",
    "strickers.show(5)"
   ]
  },
  {
   "cell_type": "code",
   "execution_count": 85,
   "metadata": {},
   "outputs": [
    {
     "name": "stdout",
     "output_type": "stream",
     "text": [
      "+-------------+-----------------+\n",
      "|player_api_id|    striker_grade|\n",
      "+-------------+-----------------+\n",
      "|        20276|            89.25|\n",
      "|        37412|             89.0|\n",
      "|        38817|            88.75|\n",
      "|        32118|            88.25|\n",
      "|        31921|             87.0|\n",
      "|        30834|            86.75|\n",
      "|       303824|85.10714285714286|\n",
      "|       129944|             85.0|\n",
      "|       158263|            84.75|\n",
      "|       150565|            84.75|\n",
      "+-------------+-----------------+\n",
      "only showing top 10 rows\n",
      "\n"
     ]
    }
   ],
   "source": [
    "# getting grade score only greater than 70\n",
    "strickers = strickers.filter(strickers.striker_grade > 70)\\\n",
    "                     .sort(strickers.striker_grade.desc())\n",
    "strickers.show(10)"
   ]
  },
  {
   "cell_type": "code",
   "execution_count": 86,
   "metadata": {},
   "outputs": [
    {
     "data": {
      "text/plain": [
       "(1609, 11060)"
      ]
     },
     "execution_count": 86,
     "metadata": {},
     "output_type": "execute_result"
    }
   ],
   "source": [
    "# getting count\n",
    "strickers.count(), players_data.count()"
   ]
  },
  {
   "cell_type": "code",
   "execution_count": 93,
   "metadata": {},
   "outputs": [
    {
     "data": {
      "text/plain": [
       "['player_api_id',\n",
       " 'player_name',\n",
       " 'birthday',\n",
       " 'height',\n",
       " 'weight',\n",
       " 'player_api_id',\n",
       " 'striker_grade']"
      ]
     },
     "execution_count": 93,
     "metadata": {},
     "output_type": "execute_result"
    }
   ],
   "source": [
    "# getting overall details by joining two tables\n",
    "strikers_details = players_data.join(strickers,\n",
    "                                     players_data.player_api_id == strickers.player_api_id\n",
    "                                    )\n",
    "strikers_details.columns\n",
    "# getting player_api_id twice one from both table"
   ]
  },
  {
   "cell_type": "code",
   "execution_count": 94,
   "metadata": {},
   "outputs": [
    {
     "data": {
      "text/plain": [
       "1609"
      ]
     },
     "execution_count": 94,
     "metadata": {},
     "output_type": "execute_result"
    }
   ],
   "source": [
    "# getting count\n",
    "strikers_details.count()"
   ]
  },
  {
   "cell_type": "code",
   "execution_count": 95,
   "metadata": {},
   "outputs": [
    {
     "data": {
      "text/plain": [
       "['player_api_id',\n",
       " 'player_name',\n",
       " 'birthday',\n",
       " 'height',\n",
       " 'weight',\n",
       " 'striker_grade']"
      ]
     },
     "execution_count": 95,
     "metadata": {},
     "output_type": "execute_result"
    }
   ],
   "source": [
    "# other efficient way to join the two data table\n",
    "strikers_details = players_data.join(strickers, ['player_api_id'])\n",
    "strikers_details.columns\n",
    "# getting player_api_id only once"
   ]
  },
  {
   "cell_type": "code",
   "execution_count": 97,
   "metadata": {},
   "outputs": [
    {
     "name": "stdout",
     "output_type": "stream",
     "text": [
      "+-------------+--------------------+-------------------+------+------+-----------------+\n",
      "|player_api_id|         player_name|           birthday|height|weight|    striker_grade|\n",
      "+-------------+--------------------+-------------------+------+------+-----------------+\n",
      "|        20276|                Hulk|1986-07-25 00:00:00|180.34|   187|            89.25|\n",
      "|        37412|       Sergio Aguero|1988-06-02 00:00:00|172.72|   163|             89.0|\n",
      "|        38817|        Carlos Tevez|1984-02-05 00:00:00|172.72|   157|            88.75|\n",
      "|        32118|      Lukas Podolski|1985-06-04 00:00:00|182.88|   183|            88.25|\n",
      "|        31921|         Gareth Bale|1989-07-16 00:00:00|182.88|   163|             87.0|\n",
      "|        30834|        Arjen Robben|1984-01-23 00:00:00|180.34|   176|            86.75|\n",
      "|       303824|       Memphis Depay|1994-02-13 00:00:00|175.26|   172|85.10714285714286|\n",
      "|       129944|          Marco Reus|1989-05-31 00:00:00|180.34|   165|             85.0|\n",
      "|       158263|        Dorlan Pabon|1988-01-24 00:00:00|167.64|   161|            84.75|\n",
      "|       150565|Pierre-Emerick Au...|1989-06-18 00:00:00|187.96|   176|            84.75|\n",
      "+-------------+--------------------+-------------------+------+------+-----------------+\n",
      "only showing top 10 rows\n",
      "\n"
     ]
    }
   ],
   "source": [
    "# showing data \n",
    "strikers_details.show(10)"
   ]
  },
  {
   "cell_type": "code",
   "execution_count": 98,
   "metadata": {},
   "outputs": [],
   "source": [
    "# using broadcast shared variable to join the table\n",
    "# only one copy data is shared to all the nodes\n",
    "# broadcast smaller data to larger data table, strickers(1609) to player(11060)\n",
    "from pyspark.sql.functions import broadcast\n",
    "strikers_details = players_data.select(\n",
    "                                        'player_api_id',\n",
    "                                        'player_name'\n",
    "                                      )\\\n",
    "                                .join(\n",
    "                                        broadcast(strickers),\n",
    "                                        ['player_api_id'],\n",
    "                                        'inner'\n",
    "                                     )"
   ]
  },
  {
   "cell_type": "code",
   "execution_count": 102,
   "metadata": {},
   "outputs": [
    {
     "name": "stdout",
     "output_type": "stream",
     "text": [
      "+-------------+--------------+-------------+\n",
      "|player_api_id|   player_name|striker_grade|\n",
      "+-------------+--------------+-------------+\n",
      "|        20276|          Hulk|        89.25|\n",
      "|        37412| Sergio Aguero|         89.0|\n",
      "|        38817|  Carlos Tevez|        88.75|\n",
      "|        32118|Lukas Podolski|        88.25|\n",
      "|        31921|   Gareth Bale|         87.0|\n",
      "+-------------+--------------+-------------+\n",
      "only showing top 5 rows\n",
      "\n"
     ]
    }
   ],
   "source": [
    "# best strickers details for selection in fifa\n",
    "strikers_details = strikers_details.sort(strikers_details.striker_grade.desc())\n",
    "strikers_details.show(5)"
   ]
  },
  {
   "cell_type": "code",
   "execution_count": 106,
   "metadata": {},
   "outputs": [
    {
     "data": {
      "text/plain": [
       "(11060, 181265)"
      ]
     },
     "execution_count": 106,
     "metadata": {},
     "output_type": "execute_result"
    }
   ],
   "source": [
    "# finding relation between heading accuracy with players heights\n",
    "players_data.count(), players_attributes.count()"
   ]
  },
  {
   "cell_type": "code",
   "execution_count": 109,
   "metadata": {},
   "outputs": [
    {
     "data": {
      "text/plain": [
       "['player_api_id',\n",
       " 'heading_accuracy',\n",
       " 'player_name',\n",
       " 'birthday',\n",
       " 'height',\n",
       " 'weight']"
      ]
     },
     "execution_count": 109,
     "metadata": {},
     "output_type": "execute_result"
    }
   ],
   "source": [
    "players_heading_acc = players_attributes.select(\n",
    "                                                'player_api_id',\n",
    "                                                'heading_accuracy'\n",
    "                                                )\\\n",
    "                                         .join(broadcast(players_data),\n",
    "                                               ['player_api_id'],\n",
    "                                               'inner'\n",
    "                                              )\n",
    "players_heading_acc.columns"
   ]
  },
  {
   "cell_type": "code",
   "execution_count": 115,
   "metadata": {},
   "outputs": [
    {
     "name": "stdout",
     "output_type": "stream",
     "text": [
      "+-------------+----------------+------------------+-------------------+------+------+\n",
      "|player_api_id|heading_accuracy|       player_name|           birthday|height|weight|\n",
      "+-------------+----------------+------------------+-------------------+------+------+\n",
      "|       505942|              71|Aaron Appindangoye|1992-02-29 00:00:00|182.88|   187|\n",
      "|       505942|              71|Aaron Appindangoye|1992-02-29 00:00:00|182.88|   187|\n",
      "|       505942|              71|Aaron Appindangoye|1992-02-29 00:00:00|182.88|   187|\n",
      "|       505942|              70|Aaron Appindangoye|1992-02-29 00:00:00|182.88|   187|\n",
      "|       505942|              70|Aaron Appindangoye|1992-02-29 00:00:00|182.88|   187|\n",
      "+-------------+----------------+------------------+-------------------+------+------+\n",
      "only showing top 5 rows\n",
      "\n"
     ]
    }
   ],
   "source": [
    "players_heading_acc.show(5)"
   ]
  },
  {
   "cell_type": "code",
   "execution_count": 116,
   "metadata": {},
   "outputs": [],
   "source": [
    "# using accumulator as we have to take count for height\n",
    "# writing data by workers to var in driver\n",
    "# defining 4 types of height categories\n",
    "short_height_count = spark.sparkContext.accumulator(0)\n",
    "medium_low_height_count = spark.sparkContext.accumulator(0)\n",
    "medium_high_height_count = spark.sparkContext.accumulator(0)\n",
    "tall_height_count = spark.sparkContext.accumulator(0)"
   ]
  },
  {
   "cell_type": "code",
   "execution_count": 117,
   "metadata": {},
   "outputs": [],
   "source": [
    "# defining helper function for counting players\n",
    "def count_players_by_height(row):\n",
    "    height = float(row.height)\n",
    "    \n",
    "    if(height <= 175):\n",
    "        short_height_count.add(1)\n",
    "    elif(height <= 183 and height > 175):\n",
    "        medium_low_height_count.add(1)\n",
    "    elif(height <= 195 and height > 183):\n",
    "        medium_high_height_count.add(1)\n",
    "    elif(height > 195):\n",
    "        tall_height_count.add(1)"
   ]
  },
  {
   "cell_type": "code",
   "execution_count": 118,
   "metadata": {},
   "outputs": [],
   "source": [
    "# applying this function to each records in table\n",
    "players_heading_acc.foreach(lambda x: count_players_by_height(x))\n",
    "#for rows in players_heading_acc"
   ]
  },
  {
   "cell_type": "code",
   "execution_count": 121,
   "metadata": {},
   "outputs": [
    {
     "data": {
      "text/plain": [
       "[18977, 97399, 61518, 3371]"
      ]
     },
     "execution_count": 121,
     "metadata": {},
     "output_type": "execute_result"
    }
   ],
   "source": [
    "all_players = [\n",
    "               short_height_count.value,\n",
    "               medium_low_height_count.value,\n",
    "               medium_high_height_count.value,\n",
    "               tall_height_count.value\n",
    "]\n",
    "all_players"
   ]
  },
  {
   "cell_type": "code",
   "execution_count": 128,
   "metadata": {},
   "outputs": [],
   "source": [
    "# saving dataframes in csv file\n",
    "player_data_2016 .select('player_api_id', 'overall_rating')\\\n",
    "                 .coalesce(1)\\\n",
    "                 .write\\\n",
    "                 .option('header', 'true')\\\n",
    "                 .csv('player_id_name.csv')"
   ]
  },
  {
   "cell_type": "code",
   "execution_count": 129,
   "metadata": {},
   "outputs": [],
   "source": [
    "# saving dataframes in json file\n",
    "player_data_2016.select('player_api_id', 'overall_rating')\\\n",
    "                .write\\\n",
    "                .json('player_id_name.json')"
   ]
  },
  {
   "cell_type": "code",
   "execution_count": 130,
   "metadata": {},
   "outputs": [],
   "source": [
    "# creating custom vector accumulator\n",
    "from pyspark.accumulators import AccumulatorParam\n",
    "\n",
    "class VectorAccumulatorParam(AccumulatorParam):\n",
    "    \n",
    "    def zero(self, value):\n",
    "        return [0.0] * len(value)\n",
    "    \n",
    "    def addInPlace(self, v1, v2):\n",
    "        for i in range(len(v1)):\n",
    "            v1[i] +=v2[i]\n",
    "            \n",
    "        return v1"
   ]
  },
  {
   "cell_type": "code",
   "execution_count": 135,
   "metadata": {},
   "outputs": [
    {
     "data": {
      "text/plain": [
       "[10.0, 20.0, 30.0]"
      ]
     },
     "execution_count": 135,
     "metadata": {},
     "output_type": "execute_result"
    }
   ],
   "source": [
    "# printing values\n",
    "vector_accum = sc.accumulator([10.0, 20.0, 30.0], VectorAccumulatorParam())\n",
    "vector_accum.value"
   ]
  },
  {
   "cell_type": "code",
   "execution_count": 136,
   "metadata": {},
   "outputs": [
    {
     "data": {
      "text/plain": [
       "[15.0, 25.0, 35.0]"
      ]
     },
     "execution_count": 136,
     "metadata": {},
     "output_type": "execute_result"
    }
   ],
   "source": [
    "# adding values\n",
    "vector_accum += [5, 5, 5]\n",
    "vector_accum.value"
   ]
  },
  {
   "cell_type": "code",
   "execution_count": null,
   "metadata": {},
   "outputs": [],
   "source": []
  }
 ],
 "metadata": {
  "kernelspec": {
   "display_name": "Python 3",
   "language": "python",
   "name": "python3"
  },
  "language_info": {
   "codemirror_mode": {
    "name": "ipython",
    "version": 3
   },
   "file_extension": ".py",
   "mimetype": "text/x-python",
   "name": "python",
   "nbconvert_exporter": "python",
   "pygments_lexer": "ipython3",
   "version": "3.6.8"
  }
 },
 "nbformat": 4,
 "nbformat_minor": 2
}
